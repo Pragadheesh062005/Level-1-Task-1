{
  "cells": [
    {
      "cell_type": "code",
      "source": [
        "import pandas as pd\n",
        "df=pd.read_csv(\"Railway_info.csv\")\n",
        "print(\"First 10 rows of the dataset:\")\n",
        "print(df.head(10))\n",
        "print(\"\\nBasic info about  the dataset:\")\n",
        "print(df.info())\n",
        "print(\"\\nMisssing Values in each column:\")\n",
        "print(df.isnull().sum())"
      ],
      "metadata": {
        "colab": {
          "base_uri": "https://localhost:8080/"
        },
        "id": "9qiRVJjrwV9h",
        "outputId": "bf8f7b1e-f0e4-4d3a-8bb3-29a1dc7226a5"
      },
      "id": "9qiRVJjrwV9h",
      "execution_count": 1,
      "outputs": [
        {
          "output_type": "stream",
          "name": "stdout",
          "text": [
            "First 10 rows of the dataset:\n",
            "   Train_No    Train_Name           Source_Station_Name  \\\n",
            "0       107  SWV-MAO-VLNK               SAWANTWADI ROAD   \n",
            "1       108  VLNK-MAO-SWV                   MADGOAN JN.   \n",
            "2       128  MAO-KOP SPEC                   MADGOAN JN.   \n",
            "3       290  PALACE ON WH             DELHI-SAFDAR JANG   \n",
            "4       401  BSB BHARATDA                    AURANGABAD   \n",
            "5       421  LKO-SVDK FTR                   LUCKNOW JN.   \n",
            "6       422  SVDK-LKO FTR  SHRI MATA VAISHNO DEVI KATRA   \n",
            "7       477  FTR TRAIN NO                         SIRSA   \n",
            "8       502  RJPB-UMB FTR        RAJENDRANAGAR TERMINAL   \n",
            "9       504  PNBE-BTI FTR                     PATNA JN.   \n",
            "\n",
            "             Destination_Station_Name       days  \n",
            "0                         MADGOAN JN.   Saturday  \n",
            "1                     SAWANTWADI ROAD     Friday  \n",
            "2  CHHATRAPATI SHAHU MAHARAJ TERMINUS     Friday  \n",
            "3                   DELHI-SAFDAR JANG  Wednesday  \n",
            "4                        VARANASI JN.   Saturday  \n",
            "5        SHRI MATA VAISHNO DEVI KATRA    Tuesday  \n",
            "6                         LUCKNOW JN.     Monday  \n",
            "7                               SIRSA     Sunday  \n",
            "8                     AMBALA CANTT JN     Monday  \n",
            "9                         BATHINDA JN  Wednesday  \n",
            "\n",
            "Basic info about  the dataset:\n",
            "<class 'pandas.core.frame.DataFrame'>\n",
            "RangeIndex: 11113 entries, 0 to 11112\n",
            "Data columns (total 5 columns):\n",
            " #   Column                    Non-Null Count  Dtype \n",
            "---  ------                    --------------  ----- \n",
            " 0   Train_No                  11113 non-null  int64 \n",
            " 1   Train_Name                11113 non-null  object\n",
            " 2   Source_Station_Name       11113 non-null  object\n",
            " 3   Destination_Station_Name  11113 non-null  object\n",
            " 4   days                      11113 non-null  object\n",
            "dtypes: int64(1), object(4)\n",
            "memory usage: 434.2+ KB\n",
            "None\n",
            "\n",
            "Misssing Values in each column:\n",
            "Train_No                    0\n",
            "Train_Name                  0\n",
            "Source_Station_Name         0\n",
            "Destination_Station_Name    0\n",
            "days                        0\n",
            "dtype: int64\n"
          ]
        }
      ]
    }
  ],
  "metadata": {
    "kernelspec": {
      "display_name": "Python 3",
      "name": "python3"
    },
    "language_info": {
      "name": "python"
    },
    "required_libs": [],
    "colab": {
      "provenance": []
    }
  },
  "nbformat": 4,
  "nbformat_minor": 5
}